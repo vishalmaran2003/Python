{
 "cells": [
  {
   "cell_type": "code",
   "execution_count": 2,
   "id": "54d0e43c-8ad3-4cc9-8b3e-293c90a0263a",
   "metadata": {},
   "outputs": [
    {
     "name": "stdout",
     "output_type": "stream",
     "text": [
      "'harry potter' by jk\n"
     ]
    }
   ],
   "source": [
    "class Book:\n",
    "    def __init__(self, title, author):\n",
    "        self.title = title\n",
    "        self.author = author\n",
    "\n",
    "    def __str__(self):\n",
    "        return f\"'{self.title}' by {self.author}\"\n",
    "\n",
    "book = Book(\"harry potter\", \"jk\")\n",
    "print(book)\n"
   ]
  },
  {
   "cell_type": "code",
   "execution_count": 14,
   "id": "fd4fbe8b-8304-4df4-b5af-695e45f8b4fe",
   "metadata": {},
   "outputs": [
    {
     "name": "stdin",
     "output_type": "stream",
     "text": [
      "game name GTA5\n",
      "year 2013\n"
     ]
    },
    {
     "name": "stdout",
     "output_type": "stream",
     "text": [
      "'GTA5' in 2013\n"
     ]
    }
   ],
   "source": [
    "class game:\n",
    "    def __init__(self,name,year):\n",
    "        self.name=name\n",
    "        self.year=year\n",
    "    def __str__(self):\n",
    "         return f\"'{self.name}' in {self.year}\"\n",
    "game=game(input(\"game name\"),int(input(\"year\")))\n",
    "print(game)"
   ]
  },
  {
   "cell_type": "code",
   "execution_count": 19,
   "id": "f0da3671-cc58-4ef5-8b20-6d643490b834",
   "metadata": {},
   "outputs": [
    {
     "name": "stdout",
     "output_type": "stream",
     "text": [
      "'redmi'-note6pro\n"
     ]
    }
   ],
   "source": [
    "class mobile:\n",
    "    def __init__(self,brandn,model):\n",
    "        self.brand=brand\n",
    "        self.model=model\n",
    "    def __str__(self):\n",
    "        return f\"'{self.brand}'-{self.model}\"\n",
    "mobile=mobile(\"redmi\",\"note6pro\")\n",
    "print(mobile)"
   ]
  },
  {
   "cell_type": "code",
   "execution_count": null,
   "id": "f32b5aee-da38-4937-b13a-ebb469b50146",
   "metadata": {},
   "outputs": [],
   "source": []
  }
 ],
 "metadata": {
  "kernelspec": {
   "display_name": "Python 3 (ipykernel)",
   "language": "python",
   "name": "python3"
  },
  "language_info": {
   "codemirror_mode": {
    "name": "ipython",
    "version": 3
   },
   "file_extension": ".py",
   "mimetype": "text/x-python",
   "name": "python",
   "nbconvert_exporter": "python",
   "pygments_lexer": "ipython3",
   "version": "3.12.7"
  }
 },
 "nbformat": 4,
 "nbformat_minor": 5
}
