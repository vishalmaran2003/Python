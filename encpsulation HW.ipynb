{
 "cells": [
  {
   "cell_type": "code",
   "execution_count": 7,
   "id": "29fc5f8c-5079-40f6-b44b-013cdcb749c5",
   "metadata": {},
   "outputs": [
    {
     "name": "stdout",
     "output_type": "stream",
     "text": [
      "vishal\n",
      "80000\n"
     ]
    }
   ],
   "source": [
    "class Employee:\n",
    "    def __init__(self,name,salary):\n",
    "        self.name=name\n",
    "        self.salary=salary\n",
    "emp=Employee(\"vishal\",80000)\n",
    "print(emp.name)\n",
    "print(emp.salary)"
   ]
  },
  {
   "cell_type": "code",
   "execution_count": 24,
   "id": "2226f31f-81ec-4789-89e3-317d171d65b1",
   "metadata": {},
   "outputs": [
    {
     "name": "stdout",
     "output_type": "stream",
     "text": [
      "vishal\n",
      "80000\n"
     ]
    }
   ],
   "source": [
    "class employee:\n",
    "    def __init__(self,name,salary):\n",
    "        self.name=name\n",
    "        self.__salary=salary\n",
    "    def empl(self):\n",
    "        print(__salary)\n",
    "emp=Employee(\"vishal\",80000)\n",
    "print(emp.name)\n",
    "#print(emp.__salary)\n",
    "emp.empl()\n"
   ]
  },
  {
   "cell_type": "code",
   "execution_count": 31,
   "id": "599999bb-9a47-4e5e-abe8-be887a020ad0",
   "metadata": {},
   "outputs": [
    {
     "name": "stdout",
     "output_type": "stream",
     "text": [
      "MAM college\n",
      "CSE\n"
     ]
    }
   ],
   "source": [
    "class university:\n",
    "    def college(self):\n",
    "        print(\"MAM college\")\n",
    "    def __department(self):\n",
    "        print(\"CSE\")\n",
    "    def department(self):\n",
    "        self.__department()\n",
    "uni=university()\n",
    "uni.college()\n",
    "uni.department()"
   ]
  },
  {
   "cell_type": "code",
   "execution_count": 49,
   "id": "d4495475-8e8f-4377-b7d8-8e57b2108489",
   "metadata": {},
   "outputs": [
    {
     "name": "stdout",
     "output_type": "stream",
     "text": [
      "alchemist\n",
      "<bound method libary.__book of <__main__.libary object at 0x0000018B8E610E30>>\n"
     ]
    }
   ],
   "source": [
    "class libary:\n",
    "    def __init__(self):\n",
    "        self.book1=\"alchemist\"\n",
    "        self.book2=\"star wars\"\n",
    "    def book(self):\n",
    "        print(self.book1)\n",
    "    def __book(self):\n",
    "        print(self.book2)\n",
    "    def book3(self):\n",
    "        print(self.__book)\n",
    "lib=libary()\n",
    "lib.book()\n",
    "lib.book3()"
   ]
  },
  {
   "cell_type": "code",
   "execution_count": null,
   "id": "42ded926-c218-483a-9a7e-34fbc30108df",
   "metadata": {},
   "outputs": [],
   "source": []
  }
 ],
 "metadata": {
  "kernelspec": {
   "display_name": "Python 3 (ipykernel)",
   "language": "python",
   "name": "python3"
  },
  "language_info": {
   "codemirror_mode": {
    "name": "ipython",
    "version": 3
   },
   "file_extension": ".py",
   "mimetype": "text/x-python",
   "name": "python",
   "nbconvert_exporter": "python",
   "pygments_lexer": "ipython3",
   "version": "3.12.7"
  }
 },
 "nbformat": 4,
 "nbformat_minor": 5
}
