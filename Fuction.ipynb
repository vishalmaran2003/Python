{
 "cells": [
  {
   "cell_type": "code",
   "execution_count": 11,
   "id": "b19024d3-64a0-409e-8447-c7626e28cbe7",
   "metadata": {},
   "outputs": [
    {
     "name": "stdout",
     "output_type": "stream",
     "text": [
      "True\n"
     ]
    }
   ],
   "source": [
    "def leap_year(year):\n",
    "    return(year%4==0 and(year%100!=0 or year%400==0))\n",
    "print(leap_year(2008))"
   ]
  },
  {
   "cell_type": "code",
   "execution_count": 8,
   "id": "9b68338c-52a2-4283-a3f5-a364f098fd01",
   "metadata": {},
   "outputs": [
    {
     "data": {
      "text/plain": [
       "(6, 2)"
      ]
     },
     "execution_count": 8,
     "metadata": {},
     "output_type": "execute_result"
    }
   ],
   "source": [
    "def find_second_max_min(a):\n",
    "    a=(sorted(a))\n",
    "    return a[-2],a[1]\n",
    "find_second_max_min([1,3,4,2,6,8,5])"
   ]
  },
  {
   "cell_type": "code",
   "execution_count": 10,
   "id": "4035bb44-5dff-4496-a041-1e5e4ff81bf4",
   "metadata": {},
   "outputs": [
    {
     "name": "stdout",
     "output_type": "stream",
     "text": [
      "[0, 1, 2, 3, 4, 5, 7, 8, 9]\n"
     ]
    }
   ],
   "source": [
    "def  remove_duplicate(a):\n",
    "    return(list(set(a)))\n",
    "print(remove_duplicate([1,2,3,4,3,4,5,5,5,3,4,7,8,9,0,8]))"
   ]
  },
  {
   "cell_type": "code",
   "execution_count": 11,
   "id": "299c8d4a-4e51-4091-ba3f-8ceed93808ed",
   "metadata": {},
   "outputs": [
    {
     "name": "stdin",
     "output_type": "stream",
     "text": [
      "enter nummber 2\n",
      "enter nummber 5\n"
     ]
    },
    {
     "name": "stdout",
     "output_type": "stream",
     "text": [
      "7\n"
     ]
    }
   ],
   "source": [
    "def addition():\n",
    "    a=(int(input(\"enter nummber\")))\n",
    "    b=(int(input(\"enter nummber\")))\n",
    "    print(a+b)\n",
    "addition()"
   ]
  },
  {
   "cell_type": "code",
   "execution_count": 12,
   "id": "963079b5-7101-40f8-94de-7d7bee484789",
   "metadata": {},
   "outputs": [
    {
     "name": "stdin",
     "output_type": "stream",
     "text": [
      "enter1 7\n",
      "enter2 3\n"
     ]
    },
    {
     "name": "stdout",
     "output_type": "stream",
     "text": [
      "4\n"
     ]
    }
   ],
   "source": [
    "def sub():\n",
    "    a=(int(input(\"enter1\")))\n",
    "    b=(int(input(\"enter2\")))\n",
    "    print(a-b)\n",
    "sub()"
   ]
  },
  {
   "cell_type": "code",
   "execution_count": null,
   "id": "1493962a-1710-4db6-88b8-2711abf4e236",
   "metadata": {},
   "outputs": [],
   "source": []
  }
 ],
 "metadata": {
  "kernelspec": {
   "display_name": "Python 3 (ipykernel)",
   "language": "python",
   "name": "python3"
  },
  "language_info": {
   "codemirror_mode": {
    "name": "ipython",
    "version": 3
   },
   "file_extension": ".py",
   "mimetype": "text/x-python",
   "name": "python",
   "nbconvert_exporter": "python",
   "pygments_lexer": "ipython3",
   "version": "3.12.7"
  }
 },
 "nbformat": 4,
 "nbformat_minor": 5
}
