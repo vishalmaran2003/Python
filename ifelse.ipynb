{
 "cells": [
  {
   "cell_type": "code",
   "execution_count": 17,
   "id": "959cf3da-30eb-4832-9700-62186edc25c0",
   "metadata": {},
   "outputs": [
    {
     "name": "stdin",
     "output_type": "stream",
     "text": [
      " 2\n",
      " 1\n",
      " add\n"
     ]
    },
    {
     "name": "stdout",
     "output_type": "stream",
     "text": [
      "3\n"
     ]
    }
   ],
   "source": [
    "def calculator():\n",
    "    try:\n",
    "        a=int(input())\n",
    "        b=int(input())\n",
    "        operation=input()\n",
    "        if operation==\"add\":\n",
    "            print(a+b)\n",
    "        elif operation==\"sub\":\n",
    "            print(a-b)\n",
    "        elif operation==\"mul\":\n",
    "            print(a*b)\n",
    "        elif operation==\"div\":\n",
    "            print(a/b)\n",
    "        else:\n",
    "            print(\"put correct operation\")\n",
    "    except ValueError:\n",
    "        print(\"enter only number\")\n",
    "    except NameError:\n",
    "        print(\"enter valid value\")\n",
    "    except exception as e:\n",
    "        print(e)\n",
    "calculator()"
   ]
  },
  {
   "cell_type": "code",
   "execution_count": 27,
   "id": "64a635dd-8663-4c3f-8c99-1f504c7fd778",
   "metadata": {},
   "outputs": [
    {
     "name": "stdout",
     "output_type": "stream",
     "text": [
      "it is a palindrome word\n"
     ]
    }
   ],
   "source": [
    "def palindrome():\n",
    "    word=\"malayalam\"\n",
    "    return word==word[::-1] \n",
    "if palindrome():\n",
    "    print(\"it is a palindrome word\")\n",
    "else:\n",
    "    print(\"its not a palinedrome word\")"
   ]
  },
  {
   "cell_type": "code",
   "execution_count": 26,
   "id": "b1dd15c0-bd01-44de-95e9-91ac0e8eef1f",
   "metadata": {},
   "outputs": [
    {
     "name": "stdout",
     "output_type": "stream",
     "text": [
      "true\n"
     ]
    }
   ],
   "source": [
    "def anagram():\n",
    "    str1=\"act\"\n",
    "    str2=\"cat\"\n",
    "    str1.lower()\n",
    "    str2.lower()\n",
    "    return sorted(str1)==sorted(str2) \n",
    "if anagram():\n",
    "    print(\"true\")\n",
    "else:\n",
    "    print(\"false\")\n",
    "        "
   ]
  },
  {
   "cell_type": "code",
   "execution_count": null,
   "id": "842cd473-5c62-4d93-91c7-a26ee683d8f9",
   "metadata": {},
   "outputs": [],
   "source": []
  }
 ],
 "metadata": {
  "kernelspec": {
   "display_name": "Python 3 (ipykernel)",
   "language": "python",
   "name": "python3"
  },
  "language_info": {
   "codemirror_mode": {
    "name": "ipython",
    "version": 3
   },
   "file_extension": ".py",
   "mimetype": "text/x-python",
   "name": "python",
   "nbconvert_exporter": "python",
   "pygments_lexer": "ipython3",
   "version": "3.12.7"
  }
 },
 "nbformat": 4,
 "nbformat_minor": 5
}
