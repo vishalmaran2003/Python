{
 "cells": [
  {
   "cell_type": "code",
   "execution_count": 6,
   "id": "99329c0c-36d6-41b2-b228-dadd418f58c3",
   "metadata": {},
   "outputs": [
    {
     "name": "stdin",
     "output_type": "stream",
     "text": [
      "enter nummber 10\n",
      "enter nummber 20\n"
     ]
    },
    {
     "name": "stdout",
     "output_type": "stream",
     "text": [
      "30\n"
     ]
    },
    {
     "name": "stdin",
     "output_type": "stream",
     "text": [
      "enter1 10\n",
      "enter2 20\n"
     ]
    },
    {
     "name": "stdout",
     "output_type": "stream",
     "text": [
      "-10\n"
     ]
    }
   ],
   "source": [
    "def addition():\n",
    "    a=(int(input(\"enter nummber\")))\n",
    "    b=(int(input(\"enter nummber\")))\n",
    "    print(a+b)\n",
    "def sub():\n",
    "    a=(int(input(\"enter1\")))\n",
    "    b=(int(input(\"enter2\")))\n",
    "    print(a-b)\n",
    "addition()\n",
    "sub()"
   ]
  },
  {
   "cell_type": "code",
   "execution_count": 9,
   "id": "5db94895-c363-46da-ad6c-50d10e088095",
   "metadata": {},
   "outputs": [
    {
     "name": "stdin",
     "output_type": "stream",
     "text": [
      "Enter num 10\n",
      "enter num 2\n"
     ]
    },
    {
     "name": "stdout",
     "output_type": "stream",
     "text": [
      "20\n"
     ]
    }
   ],
   "source": [
    "def mul():\n",
    "    a=(int(input(\"Enter num\")))\n",
    "    b=(int(input(\"enter num\")))\n",
    "    print(a*b)\n",
    "mul()"
   ]
  },
  {
   "cell_type": "code",
   "execution_count": 10,
   "id": "23481808-0e04-4707-9054-1cf407edc03b",
   "metadata": {},
   "outputs": [
    {
     "name": "stdout",
     "output_type": "stream",
     "text": [
      "message\n"
     ]
    }
   ],
   "source": [
    "def painter():\n",
    "    print(\"message\")\n",
    "painter()"
   ]
  },
  {
   "cell_type": "code",
   "execution_count": 21,
   "id": "166c16ec-697d-4b55-8c90-8692b35d512a",
   "metadata": {},
   "outputs": [
    {
     "name": "stdout",
     "output_type": "stream",
     "text": [
      "message: hi\n"
     ]
    }
   ],
   "source": [
    "def painter(msg):\n",
    "    print(\"message:\",msg)\n",
    "painter(\"hi\")  "
   ]
  },
  {
   "cell_type": "code",
   "execution_count": null,
   "id": "2b3a5250-cdf2-41b0-a558-c76c756c6da6",
   "metadata": {},
   "outputs": [],
   "source": []
  },
  {
   "cell_type": "code",
   "execution_count": null,
   "id": "84a18a54-c7b0-4129-9faa-f53e84e66193",
   "metadata": {},
   "outputs": [],
   "source": []
  }
 ],
 "metadata": {
  "kernelspec": {
   "display_name": "Python 3 (ipykernel)",
   "language": "python",
   "name": "python3"
  },
  "language_info": {
   "codemirror_mode": {
    "name": "ipython",
    "version": 3
   },
   "file_extension": ".py",
   "mimetype": "text/x-python",
   "name": "python",
   "nbconvert_exporter": "python",
   "pygments_lexer": "ipython3",
   "version": "3.12.7"
  }
 },
 "nbformat": 4,
 "nbformat_minor": 5
}
