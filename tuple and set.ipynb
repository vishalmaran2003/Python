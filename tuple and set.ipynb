{
 "cells": [
  {
   "cell_type": "code",
   "execution_count": 7,
   "id": "6f7c2d8f-ac38-49d4-bff6-ab05a4caf601",
   "metadata": {},
   "outputs": [
    {
     "name": "stdout",
     "output_type": "stream",
     "text": [
      "apple\n",
      "banana\n",
      "mango\n",
      "kiwi\n"
     ]
    }
   ],
   "source": [
    "mylist=[\"apple\",\"banana\",\"mango\",\"kiwi\"]\n",
    "for i in range(len(mylist)):\n",
    "  print(mylist[i])"
   ]
  },
  {
   "cell_type": "code",
   "execution_count": 8,
   "id": "bb5c45de-5442-41a0-9c8d-42a08a174ccb",
   "metadata": {},
   "outputs": [
    {
     "name": "stdout",
     "output_type": "stream",
     "text": [
      "1\n",
      "2\n",
      "3\n",
      "4\n",
      "5\n"
     ]
    }
   ],
   "source": [
    "a=[\"1\",\"2\",\"3\",\"4\",\"5\"]\n",
    "for i in range(len(a)):\n",
    "    print(a[i])"
   ]
  },
  {
   "cell_type": "code",
   "execution_count": 10,
   "id": "7c2caf6d-e516-47ad-bfbc-005bc29d6a9e",
   "metadata": {},
   "outputs": [
    {
     "name": "stdout",
     "output_type": "stream",
     "text": [
      "['b', 'c', 'd', 'e', 'f']\n"
     ]
    }
   ],
   "source": [
    "a=[\"b\",\"d\",\"c\",\"f\",\"e\"]\n",
    "a.sort()\n",
    "print(a)"
   ]
  },
  {
   "cell_type": "code",
   "execution_count": 12,
   "id": "7baa5a9f-e5b3-449c-8d01-fdd6a51a7e46",
   "metadata": {},
   "outputs": [
    {
     "name": "stdout",
     "output_type": "stream",
     "text": [
      "['apple', 'banana', 'grapes', 'orange']\n"
     ]
    }
   ],
   "source": [
    "veg=[\"grapes\",\"orange\",\"apple\",\"banana\"]\n",
    "veg.sort()\n",
    "print(veg)"
   ]
  },
  {
   "cell_type": "code",
   "execution_count": 13,
   "id": "d0e3ee1a-b9c0-4464-8f66-209bb891c8d2",
   "metadata": {},
   "outputs": [
    {
     "name": "stdout",
     "output_type": "stream",
     "text": [
      "('apple', 'banana', 'mango')\n",
      "<class 'tuple'>\n"
     ]
    }
   ],
   "source": [
    "a=(\"apple\",\"banana\",\"mango\")\n",
    "print(a)\n",
    "print(type(a))"
   ]
  },
  {
   "cell_type": "code",
   "execution_count": 14,
   "id": "8d0a56d1-dcf4-401a-b226-029f3790d508",
   "metadata": {},
   "outputs": [
    {
     "name": "stdout",
     "output_type": "stream",
     "text": [
      "['apple', 'banana', 'mango']\n",
      "<class 'list'>\n"
     ]
    }
   ],
   "source": [
    "a=[\"apple\",\"banana\",\"mango\"]\n",
    "print(a)\n",
    "print(type(a))"
   ]
  },
  {
   "cell_type": "code",
   "execution_count": 16,
   "id": "be789c9b-f2e6-407b-be89-ee7e07bd5b61",
   "metadata": {},
   "outputs": [
    {
     "name": "stdout",
     "output_type": "stream",
     "text": [
      "('apple', 'kiwi', 'mango')\n"
     ]
    }
   ],
   "source": [
    "a=[\"apple\",\"banana\",\"mango\"]\n",
    "b=list(a)\n",
    "b[1]=\"kiwi\"\n",
    "a=tuple(b)\n",
    "print(a)"
   ]
  },
  {
   "cell_type": "code",
   "execution_count": 22,
   "id": "f4ed70f7-99ba-466a-8a4d-dbb06602fd72",
   "metadata": {},
   "outputs": [
    {
     "name": "stdout",
     "output_type": "stream",
     "text": [
      "apple\n",
      "ball\n",
      "cat\n",
      "dog\n",
      "apple ball cat dog\n"
     ]
    }
   ],
   "source": [
    "a=(\"apple\",\"ball\",\"cat\",\"dog\")\n",
    "(a,b,c,d)=a\n",
    "print(a)\n",
    "print(b)\n",
    "print(c)\n",
    "print(d)\n",
    "print(a,b,c,d)"
   ]
  },
  {
   "cell_type": "code",
   "execution_count": 30,
   "id": "12761b7c-68c2-4c5d-ba78-e8af2fdfd30b",
   "metadata": {},
   "outputs": [
    {
     "name": "stdout",
     "output_type": "stream",
     "text": [
      "2\n"
     ]
    }
   ],
   "source": [
    "#tuple\n",
    "a=(1,2,3,4,5,6,5,7)\n",
    "b=a.count(5)\n",
    "print(b)"
   ]
  },
  {
   "cell_type": "code",
   "execution_count": 33,
   "id": "fb6fe297-9983-4668-abe9-2df7f51237ba",
   "metadata": {},
   "outputs": [
    {
     "data": {
      "text/plain": [
       "{5, 8, 9, 90, False, True, 'apple', 'banana', 'cherry'}"
      ]
     },
     "execution_count": 33,
     "metadata": {},
     "output_type": "execute_result"
    }
   ],
   "source": [
    "#set{}\n",
    "a= {\"apple\", \"banana\", \"cherry\", False, True, 1,0,5,9,90,8,90}\n",
    "a"
   ]
  },
  {
   "cell_type": "code",
   "execution_count": 36,
   "id": "72d26709-1337-4208-b2c6-7d150b8500da",
   "metadata": {},
   "outputs": [
    {
     "name": "stdout",
     "output_type": "stream",
     "text": [
      "{1, 2, 3, 4, 5, 6}\n"
     ]
    }
   ],
   "source": [
    "a={1,1,2,3,4,4,4,5,5,6}\n",
    "print(a)"
   ]
  },
  {
   "cell_type": "code",
   "execution_count": 41,
   "id": "ccadec98-cf7a-431e-bd0f-619f776d25f3",
   "metadata": {},
   "outputs": [
    {
     "name": "stdout",
     "output_type": "stream",
     "text": [
      "blue\n",
      "red\n",
      "orange\n"
     ]
    }
   ],
   "source": [
    "a={\"red\",\"blue\",\"orange\"}\n",
    "for i in a:\n",
    "   print(i)"
   ]
  },
  {
   "cell_type": "code",
   "execution_count": 42,
   "id": "2b8841c5-a13e-49f9-8566-4fa66f799982",
   "metadata": {},
   "outputs": [
    {
     "name": "stdout",
     "output_type": "stream",
     "text": [
      "{'blue', 'red', 'orange', 0}\n"
     ]
    }
   ],
   "source": [
    "a={\"red\",\"blue\",\"orange\"}\n",
    "a.add(0)\n",
    "print(a)"
   ]
  },
  {
   "cell_type": "code",
   "execution_count": 45,
   "id": "56718bc1-1c83-43a6-a417-94a5617c73e5",
   "metadata": {},
   "outputs": [
    {
     "name": "stdout",
     "output_type": "stream",
     "text": [
      "{'cherry', 'blue', 'red', 'orange', 'banana', 'apple'}\n"
     ]
    }
   ],
   "source": [
    "a={\"red\",\"blue\",\"orange\"}\n",
    "b= {\"apple\",\"banana\",\"cherry\"}\n",
    "a.update(b)\n",
    "print(a)"
   ]
  },
  {
   "cell_type": "code",
   "execution_count": null,
   "id": "c5bbbb52-a2fe-4649-8dde-eb5c2a2ac204",
   "metadata": {},
   "outputs": [],
   "source": []
  }
 ],
 "metadata": {
  "kernelspec": {
   "display_name": "Python 3 (ipykernel)",
   "language": "python",
   "name": "python3"
  },
  "language_info": {
   "codemirror_mode": {
    "name": "ipython",
    "version": 3
   },
   "file_extension": ".py",
   "mimetype": "text/x-python",
   "name": "python",
   "nbconvert_exporter": "python",
   "pygments_lexer": "ipython3",
   "version": "3.12.7"
  }
 },
 "nbformat": 4,
 "nbformat_minor": 5
}
