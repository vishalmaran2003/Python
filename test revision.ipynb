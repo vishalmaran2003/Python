{
 "cells": [
  {
   "cell_type": "code",
   "execution_count": 9,
   "id": "773b3300-82b3-458d-a2c1-b33f052f300f",
   "metadata": {},
   "outputs": [
    {
     "ename": "NameError",
     "evalue": "name 'ispalindrome' is not defined",
     "output_type": "error",
     "traceback": [
      "\u001b[1;31m---------------------------------------------------------------------------\u001b[0m",
      "\u001b[1;31mNameError\u001b[0m                                 Traceback (most recent call last)",
      "Cell \u001b[1;32mIn[9], line 3\u001b[0m\n\u001b[0;32m      1\u001b[0m \u001b[38;5;28;01mdef\u001b[39;00m \u001b[38;5;21mpalindrome\u001b[39m():\n\u001b[0;32m      2\u001b[0m   text \u001b[38;5;241m=\u001b[39m (\u001b[38;5;124m\"\u001b[39m\u001b[38;5;124mmadam\u001b[39m\u001b[38;5;124m\"\u001b[39m)\n\u001b[1;32m----> 3\u001b[0m \u001b[38;5;28;01mif\u001b[39;00m ispalindrome (text):\n\u001b[0;32m      4\u001b[0m     \u001b[38;5;28mprint\u001b[39m(\u001b[38;5;124m\"\u001b[39m\u001b[38;5;124mIt\u001b[39m\u001b[38;5;124m'\u001b[39m\u001b[38;5;124ms a palindrome!\u001b[39m\u001b[38;5;124m\"\u001b[39m)\n\u001b[0;32m      5\u001b[0m \u001b[38;5;28;01melse\u001b[39;00m:\n",
      "\u001b[1;31mNameError\u001b[0m: name 'ispalindrome' is not defined"
     ]
    }
   ],
   "source": [
    "def palindrome():\n",
    "  text = (\"madam\")\n",
    "if  (text):\n",
    "    print(\"It's a palindrome!\")\n",
    "else:\n",
    "    print(\"Not a palindrome.\")"
   ]
  },
  {
   "cell_type": "code",
   "execution_count": 10,
   "id": "ccb2d36b-332d-41e8-996b-ceda7f783e28",
   "metadata": {},
   "outputs": [
    {
     "name": "stdin",
     "output_type": "stream",
     "text": [
      "Enter a string to check for palindrome:  madam\n"
     ]
    },
    {
     "name": "stdout",
     "output_type": "stream",
     "text": [
      "Yes, it's a palindrome!\n"
     ]
    }
   ],
   "source": [
    "def is_palindrome(s):\n",
    "    # Convert to lowercase and remove non-alphanumeric characters\n",
    "    s = ''.join(c.lower() for c in s if c.isalnum())\n",
    "    return s == s[::-1]\n",
    "\n",
    "# Input from user\n",
    "text = input(\"Enter a string to check for palindrome: \")\n",
    "\n",
    "# Check and print result\n",
    "if is_palindrome(text):\n",
    "    print(\"Yes, it's a palindrome!\")\n",
    "else:\n",
    "    print(\"No, it's not a palindrome.\")\n"
   ]
  },
  {
   "cell_type": "code",
   "execution_count": 20,
   "id": "d0486d16-42d6-4ac8-8c0e-e5c9905a8b53",
   "metadata": {},
   "outputs": [
    {
     "name": "stdin",
     "output_type": "stream",
     "text": [
      "enter: madam\n"
     ]
    },
    {
     "name": "stdout",
     "output_type": "stream",
     "text": [
      "yes,palindrome\n"
     ]
    }
   ],
   "source": [
    "def is_palindrome(a):\n",
    "    a=''.join(b.lower() for b in a if b.isalnum())\n",
    "    return a==a[::-1]\n",
    "text=input(\"enter:\")\n",
    "if is_palindrome(text):\n",
    "     print(\"yes,palindrome\")\n",
    "else:\n",
    "     print(\"no\")"
   ]
  },
  {
   "cell_type": "code",
   "execution_count": 21,
   "id": "d04562ee-6c09-49bc-84d0-04a93112b8cd",
   "metadata": {},
   "outputs": [
    {
     "name": "stdin",
     "output_type": "stream",
     "text": [
      "Enter a number:  7\n"
     ]
    },
    {
     "name": "stdout",
     "output_type": "stream",
     "text": [
      "Prime number\n"
     ]
    }
   ],
   "source": [
    "num = int(input(\"Enter a number: \"))\n",
    "if num > 1:\n",
    "    for i in range(2, num):\n",
    "        if num % i == 0:\n",
    "            print(\"Not a prime number\")\n",
    "            break\n",
    "    else:\n",
    "        print(\"Prime number\")\n",
    "else:\n",
    "    print(\"Not a prime number\")\n"
   ]
  },
  {
   "cell_type": "code",
   "execution_count": 30,
   "id": "ddbbb2c4-2cb8-49dc-9d75-3b2fd0ec848c",
   "metadata": {},
   "outputs": [
    {
     "name": "stdin",
     "output_type": "stream",
     "text": [
      "enter a number 10\n"
     ]
    },
    {
     "name": "stdout",
     "output_type": "stream",
     "text": [
      "not a prime number\n"
     ]
    }
   ],
   "source": [
    "num=int(input(\"enter a number\"))\n",
    "if num>1:\n",
    "    for i in range(2,num):\n",
    "        if num%i==0:\n",
    "            print(\"not a prime number\")\n",
    "            break\n",
    "    else:\n",
    "         print(\"prime number\")\n",
    "else:\n",
    "    print(\"not a prime number\")\n",
    "        "
   ]
  },
  {
   "cell_type": "code",
   "execution_count": 32,
   "id": "fee95f22-c4a5-44f0-96e9-75f6bc048789",
   "metadata": {},
   "outputs": [
    {
     "name": "stdin",
     "output_type": "stream",
     "text": [
      "Enter numbers separated by space:  1 2 3 4 5 6 \n"
     ]
    },
    {
     "name": "stdout",
     "output_type": "stream",
     "text": [
      "Maximum number: 6\n",
      "Minimum number: 1\n"
     ]
    }
   ],
   "source": [
    "numbers = list(map(int, input(\"Enter numbers separated by space: \").split()))\n",
    "\n",
    "maximum = max(numbers)\n",
    "minimum = min(numbers)\n",
    "\n",
    "print(\"Maximum number:\", maximum)\n",
    "print(\"Minimum number:\", minimum)\n"
   ]
  },
  {
   "cell_type": "code",
   "execution_count": 38,
   "id": "0111825e-967a-4070-8257-a10ace8e6433",
   "metadata": {},
   "outputs": [
    {
     "name": "stdin",
     "output_type": "stream",
     "text": [
      "enter number 1 2 3 4 5 6\n"
     ]
    },
    {
     "name": "stdout",
     "output_type": "stream",
     "text": [
      "maximum mumber: 6\n",
      "minimum: 1\n"
     ]
    }
   ],
   "source": [
    "a=list(map(int,input(\"enter number\").split()))\n",
    "maximum=max(a)\n",
    "minimum=min(a)\n",
    "print(\"maximum mumber:\",maximum)\n",
    "print(\"minimum:\",minimum)"
   ]
  },
  {
   "cell_type": "code",
   "execution_count": 39,
   "id": "f22ad79c-7dc2-4d1d-b1de-552156b66ba7",
   "metadata": {},
   "outputs": [
    {
     "name": "stdin",
     "output_type": "stream",
     "text": [
      "Enter first list (space-separated):  1 2 3\n",
      "Enter second list (space-separated):  0 9 8 \n"
     ]
    },
    {
     "name": "stdout",
     "output_type": "stream",
     "text": [
      "Merged and Sorted List: [0, 1, 2, 3, 8, 9]\n"
     ]
    }
   ],
   "source": [
    "# Input two lists\n",
    "list1 = list(map(int, input(\"Enter first list (space-separated): \").split()))\n",
    "list2 = list(map(int, input(\"Enter second list (space-separated): \").split()))\n",
    "\n",
    "# Merge and sort\n",
    "merged_list = list1 + list2\n",
    "merged_list.sort()\n",
    "\n",
    "# Output the result\n",
    "print(\"Merged and Sorted List:\", merged_list)\n"
   ]
  },
  {
   "cell_type": "code",
   "execution_count": 50,
   "id": "7cef0488-658f-4ad8-9787-e53113ce4fb1",
   "metadata": {},
   "outputs": [
    {
     "name": "stdin",
     "output_type": "stream",
     "text": [
      "enter a: 4 5 6\n",
      "enter b: 1 2 8\n"
     ]
    },
    {
     "name": "stdout",
     "output_type": "stream",
     "text": [
      "['1', '2', '4', '5', '6', '8']\n"
     ]
    }
   ],
   "source": [
    "a=list(input(\"enter a:\").split())\n",
    "b=list(input(\"enter b:\").split())\n",
    "c=a+b\n",
    "c.sort()\n",
    "print(c)\n"
   ]
  },
  {
   "cell_type": "code",
   "execution_count": 54,
   "id": "ad2d0879-72e0-4422-bd62-3bdb81b173a2",
   "metadata": {},
   "outputs": [
    {
     "name": "stdin",
     "output_type": "stream",
     "text": [
      "enter a 1 3 5\n",
      "enter b 2 4 6\n"
     ]
    },
    {
     "name": "stdout",
     "output_type": "stream",
     "text": [
      "['1', '2', '3', '4', '5', '6']\n"
     ]
    }
   ],
   "source": [
    "a=list(input(\"enter a\").split())\n",
    "b=list(input(\"enter b\").split())\n",
    "c=a+b\n",
    "c.sort()\n",
    "print(c)\n"
   ]
  },
  {
   "cell_type": "code",
   "execution_count": 55,
   "id": "adda4f35-a01b-4397-b387-cad535649eb8",
   "metadata": {},
   "outputs": [
    {
     "name": "stdin",
     "output_type": "stream",
     "text": [
      "Enter a number:  4\n"
     ]
    },
    {
     "name": "stdout",
     "output_type": "stream",
     "text": [
      "Even number\n"
     ]
    }
   ],
   "source": [
    "num = int(input(\"Enter a number: \"))\n",
    "\n",
    "if num % 2 == 0:\n",
    "    print(\"Even number\")\n",
    "else:\n",
    "    print(\"Odd number\")\n"
   ]
  },
  {
   "cell_type": "code",
   "execution_count": 61,
   "id": "199da4d6-15d2-49fc-9f4f-e4882e5e70e1",
   "metadata": {},
   "outputs": [
    {
     "name": "stdin",
     "output_type": "stream",
     "text": [
      "enter: 3\n"
     ]
    },
    {
     "name": "stdout",
     "output_type": "stream",
     "text": [
      "odd\n"
     ]
    }
   ],
   "source": [
    "a=int(input(\"enter:\"))\n",
    "if a%2==0:\n",
    "    print(\"even\")\n",
    "else:\n",
    "    print(\"odd\")\n",
    "      "
   ]
  },
  {
   "cell_type": "code",
   "execution_count": null,
   "id": "a4c1e2ad-eca8-4fe7-98f4-808eb1299d52",
   "metadata": {},
   "outputs": [],
   "source": [
    "a=int(input(\"enter\"))\n",
    "if"
   ]
  }
 ],
 "metadata": {
  "kernelspec": {
   "display_name": "Python 3 (ipykernel)",
   "language": "python",
   "name": "python3"
  },
  "language_info": {
   "codemirror_mode": {
    "name": "ipython",
    "version": 3
   },
   "file_extension": ".py",
   "mimetype": "text/x-python",
   "name": "python",
   "nbconvert_exporter": "python",
   "pygments_lexer": "ipython3",
   "version": "3.12.7"
  }
 },
 "nbformat": 4,
 "nbformat_minor": 5
}
