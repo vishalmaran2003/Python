{
 "cells": [
  {
   "cell_type": "code",
   "execution_count": 11,
   "id": "6e40dea9-7789-40dc-a9d8-923a079f5a07",
   "metadata": {},
   "outputs": [
    {
     "name": "stdout",
     "output_type": "stream",
     "text": [
      "division by zero is not acceptable\n"
     ]
    }
   ],
   "source": [
    "class Calculator:\n",
    "    def __init__(self, n1, r1):\n",
    "        self.a = n1\n",
    "        self.b = r1\n",
    "\n",
    "    def add(self):\n",
    "        try:\n",
    "            print(\"add of a & b:\", self.a + self.b)\n",
    "        except ValueError:\n",
    "            print(\"enter correct value\")\n",
    "        except NameError:\n",
    "            print(\"enter only number\")\n",
    "\n",
    "    def sub(self):\n",
    "        try:\n",
    "            print(\"sub of a & b:\", self.a - self.b)\n",
    "        except ValueError:\n",
    "            print(\"enter correct value\")\n",
    "        except NameError:\n",
    "            print(\"enter only number\")\n",
    "\n",
    "    def mul(self):\n",
    "        try:\n",
    "            print(\"mul of a & b:\", self.a * self.b)\n",
    "        except ValueError:\n",
    "            print(\"enter correct value\")\n",
    "        except NameError:\n",
    "            print(\"enter only number\")\n",
    "    \n",
    "    def div(self):\n",
    "        try:\n",
    "            print(\"div of a & b:\", self.a / self.b)\n",
    "        except ZeroDivisionError:\n",
    "            print(\"division by zero is not acceptable\")\n",
    "        except NameError:\n",
    "            print(\"enter only number\")\n",
    "        except Exception as e:\n",
    "            print(\"error in try block : \", e)\n",
    "obj = Calculator(10,0)\n",
    "obj.div()"
   ]
  },
  {
   "cell_type": "code",
   "execution_count": 14,
   "id": "5b6ffc75-08af-4e94-8db6-c5cc4aae1ef6",
   "metadata": {},
   "outputs": [
    {
     "name": "stdout",
     "output_type": "stream",
     "text": [
      "division by zero is not acceptable\n"
     ]
    }
   ],
   "source": [
    "class Calculator:\n",
    "    def __init__(self, n1, r1):  # Corrected __init__\n",
    "        self.a = n1\n",
    "        self.b = r1\n",
    "\n",
    "    def add(self):\n",
    "        try:\n",
    "            print(\"add of a & b:\", self.a + self.b)\n",
    "        except Exception as e:\n",
    "            print(\"Error in addition:\", e)\n",
    "\n",
    "    def sub(self):\n",
    "        try:\n",
    "            print(\"sub of a & b:\", self.a - self.b)\n",
    "        except Exception as e:\n",
    "            print(\"Error in subtraction:\", e)\n",
    "\n",
    "    def mul(self):\n",
    "        try:\n",
    "            print(\"mul of a & b:\", self.a * self.b)\n",
    "        except Exception as e:\n",
    "            print(\"Error in multiplication:\", e)\n",
    "    \n",
    "    def div(self):\n",
    "        try:\n",
    "            print(\"div of a & b:\", self.a / self.b)\n",
    "        except ZeroDivisionError:\n",
    "            print(\"division by zero is not acceptable\")\n",
    "        except Exception as e:\n",
    "            print(\"Error in division:\", e)\n",
    "\n",
    "# Example usage\n",
    "obj = Calculator(10, 0)\n",
    "obj.div()  # Should now handle division by zero properly\n"
   ]
  },
  {
   "cell_type": "code",
   "execution_count": 31,
   "id": "4773bd99-90b1-45ee-a8c8-7cef7a4a0a03",
   "metadata": {},
   "outputs": [
    {
     "name": "stdout",
     "output_type": "stream",
     "text": [
      "div of a & b: 2.0\n"
     ]
    }
   ],
   "source": [
    "class Calculator:\n",
    "    def __init__(self, n1, r1):  # ✅ Fixed: Correct constructor\n",
    "        self.a = n1\n",
    "        self.b = r1\n",
    "\n",
    "    def add(self):\n",
    "         print(\"add of a & b:\", self.a + self.b)\n",
    "\n",
    "    def sub(self):\n",
    "        print(\"sub of a & b:\", self.a - self.b)\n",
    "\n",
    "    def mul(self):\n",
    "        print(\"mul of a & b:\", self.a * self.b)\n",
    "    \n",
    "    def div(self):\n",
    "        try:\n",
    "            print(\"div of a & b:\", self.a / self.b)\n",
    "        except ZeroDivisionError:\n",
    "            print(\"division by zero is not acceptable\")\n",
    "        \n",
    "# Example usage\n",
    "obj = Calculator(10, 5)\n",
    "obj.div()"
   ]
  },
  {
   "cell_type": "code",
   "execution_count": 17,
   "id": "e1de17aa-7591-4a9a-b4b0-97a99a0be308",
   "metadata": {},
   "outputs": [
    {
     "name": "stdout",
     "output_type": "stream",
     "text": [
      "Sum of x and y: 30\n",
      "Difference of x and y: 20\n",
      "Product of x and y: 125\n",
      "Quotient of x and y: 5.0\n"
     ]
    }
   ],
   "source": [
    "class Calculator:\n",
    "    def __init__(self, num1, num2): \n",
    "        self.x = num1\n",
    "        self.y = num2\n",
    "\n",
    "    def add(self):\n",
    "        try:\n",
    "            print(\"Sum of x and y:\", self.x + self.y)\n",
    "        except Exception as e:\n",
    "            print(\"Error in addition:\", e)\n",
    "\n",
    "    def sub(self):\n",
    "        try:\n",
    "            print(\"Difference of x and y:\", self.x - self.y)\n",
    "        except Exception as e:\n",
    "            print(\"Error in subtraction:\", e)\n",
    "\n",
    "    def mul(self):\n",
    "        try:\n",
    "            print(\"Product of x and y:\", self.x * self.y)\n",
    "        except Exception as e:\n",
    "            print(\"Error in multiplication:\", e)\n",
    "    \n",
    "    def div(self):\n",
    "        try:\n",
    "            print(\"Quotient of x and y:\", self.x / self.y)\n",
    "        except ZeroDivisionError:\n",
    "            print(\"Division by zero is not acceptable\")\n",
    "        except Exception as e:\n",
    "            print(\"Error in division:\", e)\n",
    "calculator = Calculator(25, 5) \n",
    "calculator.add()\n",
    "calculator.sub()\n",
    "calculator.mul()\n",
    "calculator.div()\n"
   ]
  },
  {
   "cell_type": "code",
   "execution_count": 68,
   "id": "6617cf22-42e8-4520-82fd-9c89b7522285",
   "metadata": {},
   "outputs": [
    {
     "name": "stdin",
     "output_type": "stream",
     "text": [
      "Enter first number:  10\n",
      "Enter second number:  abc\n"
     ]
    },
    {
     "name": "stdout",
     "output_type": "stream",
     "text": [
      "Please enter valid numeric values.\n"
     ]
    }
   ],
   "source": [
    "class Calculator:\n",
    "    def __init__(self, num1, num2):\n",
    "        self.x = num1\n",
    "        self.y = num2\n",
    "\n",
    "    def add(self):\n",
    "        print(\"Sum of x and y:\", self.x + self.y)\n",
    "\n",
    "    def sub(self):\n",
    "        print(\"Difference of x and y:\", self.x - self.y)\n",
    "\n",
    "    def mul(self):\n",
    "        print(\"Product of x and y:\", self.x * self.y)\n",
    "\n",
    "    def div(self):\n",
    "        try:\n",
    "            print(\"Quotient of x and y:\", self.x / self.y)\n",
    "        except ZeroDivisionError:\n",
    "            print(\"Division by zero is not acceptable\")\n",
    "\n",
    "\n",
    "# ✅ Ask user for input\n",
    "try:\n",
    "    num1 = int(input(\"Enter first number: \"))\n",
    "    num2 = int(input(\"Enter second number: \"))\n",
    "    operation = input(\"Choose operation (add, sub, mul, div): \").lower()\n",
    "\n",
    "    # Create calculator object\n",
    "    calc = Calculator(num1, num2)\n",
    "\n",
    "    # Perform operation based on input\n",
    "    if operation == \"add\":\n",
    "        calc.add()\n",
    "    elif operation == \"sub\":\n",
    "        calc.sub()\n",
    "    elif operation == \"mul\":\n",
    "        calc.mul()\n",
    "    elif operation == \"div\":\n",
    "        calc.div()\n",
    "    else:\n",
    "        print(\"Invalid operation selected.\")\n",
    "\n",
    "except ValueError:\n",
    "    print(\"Please enter valid numeric values.\")\n"
   ]
  },
  {
   "cell_type": "code",
   "execution_count": 66,
   "id": "56f0a9af-5a0e-4efd-9534-12833dc49e13",
   "metadata": {},
   "outputs": [
    {
     "name": "stdout",
     "output_type": "stream",
     "text": [
      "enter value input: unsupported operand type(s) for +: 'int' and 'str'\n"
     ]
    }
   ],
   "source": [
    "class calculator:\n",
    "    def __init__(self,num1,num2):\n",
    "        self.a=num1\n",
    "        self.b=num2\n",
    "    def add(self):\n",
    "        try:\n",
    "            print(\"a&b:\",self.a + self.b)\n",
    "        except Exception as e:\n",
    "            print(\"enter value input:\",e)\n",
    "            \n",
    "cal=calculator(10,\"abc\")\n",
    "cal.add()"
   ]
  },
  {
   "cell_type": "code",
   "execution_count": 84,
   "id": "9c9bbbe8-461b-4bfe-ba02-b1ec856706ec",
   "metadata": {},
   "outputs": [
    {
     "name": "stdout",
     "output_type": "stream",
     "text": [
      "a+b= 30\n"
     ]
    }
   ],
   "source": [
    "class calculator:\n",
    "    def __init__(self,num1,num2):\n",
    "        self.a=num1\n",
    "        self.b=num2\n",
    "    def add(self):\n",
    "        try:\n",
    "            print(\"a+b=\",self.a+self.b)\n",
    "        except Exception:\n",
    "            print(\"invalid input\")\n",
    "    def sub(self):\n",
    "        try:\n",
    "            print(\"a-b=\",self.a-self.b)\n",
    "        except Exception:\n",
    "            print(\"invalid input\")\n",
    "    def mul(self):\n",
    "        try:\n",
    "            print(\"a*b=\",self.a+self.b)\n",
    "        except Exception:\n",
    "            print(\"invalid input\")\n",
    "    def div(self):\n",
    "        try:\n",
    "            print(\"a/b=\",self.a/self.b)\n",
    "        except Exception:\n",
    "            print(\"invalid input\")\n",
    "cal=calculator(10,20)\n",
    "cal.add()"
   ]
  },
  {
   "cell_type": "code",
   "execution_count": 86,
   "id": "4489cef4-e767-43bc-8a10-59e1294df7e2",
   "metadata": {},
   "outputs": [
    {
     "name": "stdout",
     "output_type": "stream",
     "text": [
      "a+b= 30\n"
     ]
    }
   ],
   "source": [
    "class calculator:\n",
    "    def __init__(self,num1,num2,):\n",
    "        self.a=num1\n",
    "        self.b=num2\n",
    "    def add(self):\n",
    "        try:\n",
    "            print(\"a+b=\",self.a+self.b)\n",
    "        except Exception:\n",
    "            print(\"invalid input\")\n",
    "    def sub(self):\n",
    "        try:\n",
    "            print(\"a-b=\",self.a-self.b)\n",
    "        except Exception:\n",
    "            print(\"invalid input\")\n",
    "    def mul(self):\n",
    "        try:\n",
    "            print(\"a*b=\",self.a+self.b)\n",
    "        except Exception:\n",
    "            print(\"invalid input\")\n",
    "    def div(self):\n",
    "        try:\n",
    "            print(\"a/b=\",self.a/self.b)\n",
    "        except Exception:\n",
    "            print(\"invalid input\")\n",
    "cal=calculator(10,20)\n",
    "cal.add()"
   ]
  },
  {
   "cell_type": "code",
   "execution_count": null,
   "id": "17575de1-4097-4f68-82f3-fff6c727d8a5",
   "metadata": {},
   "outputs": [],
   "source": []
  }
 ],
 "metadata": {
  "kernelspec": {
   "display_name": "Python 3 (ipykernel)",
   "language": "python",
   "name": "python3"
  },
  "language_info": {
   "codemirror_mode": {
    "name": "ipython",
    "version": 3
   },
   "file_extension": ".py",
   "mimetype": "text/x-python",
   "name": "python",
   "nbconvert_exporter": "python",
   "pygments_lexer": "ipython3",
   "version": "3.12.7"
  }
 },
 "nbformat": 4,
 "nbformat_minor": 5
}
