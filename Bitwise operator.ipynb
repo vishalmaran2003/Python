{
 "cells": [
  {
   "cell_type": "code",
   "execution_count": 14,
   "id": "9abae662-11a6-4799-90b5-2294421d0dd1",
   "metadata": {},
   "outputs": [
    {
     "name": "stdout",
     "output_type": "stream",
     "text": [
      "2\n"
     ]
    }
   ],
   "source": [
    "a=10\n",
    "b=6\n",
    "print(a&b)"
   ]
  },
  {
   "cell_type": "code",
   "execution_count": 15,
   "id": "7f899763-159f-4abf-a009-c3ed87f9bd8f",
   "metadata": {},
   "outputs": [
    {
     "name": "stdout",
     "output_type": "stream",
     "text": [
      "14\n"
     ]
    }
   ],
   "source": [
    "a=10\n",
    "b=6\n",
    "print(a|b)"
   ]
  },
  {
   "cell_type": "code",
   "execution_count": 3,
   "id": "2edb888a-d7b2-41ac-9503-fa85c6796ba3",
   "metadata": {},
   "outputs": [
    {
     "name": "stdout",
     "output_type": "stream",
     "text": [
      "-6\n"
     ]
    }
   ],
   "source": [
    "a=5\n",
    "print(~a)"
   ]
  },
  {
   "cell_type": "code",
   "execution_count": 41,
   "id": "33901ead-2b24-456c-9393-f21af284696e",
   "metadata": {},
   "outputs": [
    {
     "name": "stdout",
     "output_type": "stream",
     "text": [
      "6\n"
     ]
    }
   ],
   "source": [
    "a=12\n",
    "b=10\n",
    "print(a^b)"
   ]
  },
  {
   "cell_type": "code",
   "execution_count": 42,
   "id": "6e4bf46d-3009-4fd8-b598-545074c80ed6",
   "metadata": {},
   "outputs": [
    {
     "name": "stdout",
     "output_type": "stream",
     "text": [
      "13\n"
     ]
    }
   ],
   "source": [
    "a=5\n",
    "b=8\n",
    "print(a^b)"
   ]
  },
  {
   "cell_type": "code",
   "execution_count": 9,
   "id": "351fd1e4-f1b9-4fa8-bd72-c22cc41dab44",
   "metadata": {},
   "outputs": [
    {
     "name": "stdout",
     "output_type": "stream",
     "text": [
      "96\n"
     ]
    }
   ],
   "source": [
    "a=12\n",
    "b=3\n",
    "print(a<<b)"
   ]
  },
  {
   "cell_type": "code",
   "execution_count": 12,
   "id": "c5aa9363-d332-4c80-93c1-483c03bdd4f6",
   "metadata": {},
   "outputs": [
    {
     "name": "stdout",
     "output_type": "stream",
     "text": [
      "5\n"
     ]
    }
   ],
   "source": [
    "a=20\n",
    "b=2\n",
    "print(a>>b)"
   ]
  },
  {
   "cell_type": "code",
   "execution_count": null,
   "id": "e9e3d0ba-513e-4255-95d3-19b2ce3c9cd8",
   "metadata": {},
   "outputs": [],
   "source": []
  }
 ],
 "metadata": {
  "kernelspec": {
   "display_name": "Python 3 (ipykernel)",
   "language": "python",
   "name": "python3"
  },
  "language_info": {
   "codemirror_mode": {
    "name": "ipython",
    "version": 3
   },
   "file_extension": ".py",
   "mimetype": "text/x-python",
   "name": "python",
   "nbconvert_exporter": "python",
   "pygments_lexer": "ipython3",
   "version": "3.12.7"
  }
 },
 "nbformat": 4,
 "nbformat_minor": 5
}
