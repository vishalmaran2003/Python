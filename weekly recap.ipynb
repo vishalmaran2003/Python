{
 "cells": [
  {
   "cell_type": "code",
   "execution_count": 7,
   "id": "25f69625-f545-4ea7-b1ae-ca10cb7601e5",
   "metadata": {},
   "outputs": [
    {
     "name": "stdout",
     "output_type": "stream",
     "text": [
      "30\n"
     ]
    }
   ],
   "source": [
    "a=10\n",
    "b=20\n",
    "print(a+b)"
   ]
  },
  {
   "cell_type": "code",
   "execution_count": 10,
   "id": "1c511b4e-2b44-4e59-ab1e-03e826995998",
   "metadata": {},
   "outputs": [
    {
     "data": {
      "text/plain": [
       "'cat'"
      ]
     },
     "execution_count": 10,
     "metadata": {},
     "output_type": "execute_result"
    }
   ],
   "source": [
    "(a,b,c)=(\"apple\",\"ball\",\"cat\")\n",
    "(c)\n",
    "#last line need not to give\"print\""
   ]
  },
  {
   "cell_type": "code",
   "execution_count": 11,
   "id": "cd3597ef-5b99-4301-b312-552dd032e9a9",
   "metadata": {},
   "outputs": [
    {
     "name": "stdin",
     "output_type": "stream",
     "text": [
      " 10\n",
      " 20\n"
     ]
    },
    {
     "name": "stdout",
     "output_type": "stream",
     "text": [
      "1020\n"
     ]
    }
   ],
   "source": [
    "a=input()\n",
    "b=input()\n",
    "print(a+b)"
   ]
  },
  {
   "cell_type": "code",
   "execution_count": 13,
   "id": "feb1bd73-745f-4fdc-ba8b-b75c223e57f7",
   "metadata": {},
   "outputs": [
    {
     "name": "stdin",
     "output_type": "stream",
     "text": [
      " 10\n",
      " 20\n"
     ]
    },
    {
     "name": "stdout",
     "output_type": "stream",
     "text": [
      "30\n"
     ]
    }
   ],
   "source": [
    "a=int(input())\n",
    "b=int(input())\n",
    "print(a+b)"
   ]
  },
  {
   "cell_type": "code",
   "execution_count": 21,
   "id": "390d8357-55dd-4672-96a4-3cbe589d239d",
   "metadata": {},
   "outputs": [
    {
     "name": "stdout",
     "output_type": "stream",
     "text": [
      "5\n"
     ]
    }
   ],
   "source": [
    "a=(\"hello\")\n",
    "print(len(a))"
   ]
  },
  {
   "cell_type": "code",
   "execution_count": 31,
   "id": "2379f2b5-0211-4575-b39c-11499b7ab7b0",
   "metadata": {},
   "outputs": [
    {
     "data": {
      "text/plain": [
       "'sh'"
      ]
     },
     "execution_count": 31,
     "metadata": {},
     "output_type": "execute_result"
    }
   ],
   "source": [
    "a=(\"vishal\")\n",
    "a[2:4]"
   ]
  },
  {
   "cell_type": "code",
   "execution_count": 36,
   "id": "fd1e80a0-913d-4ecf-a80a-2831a6af916f",
   "metadata": {},
   "outputs": [
    {
     "name": "stdout",
     "output_type": "stream",
     "text": [
      "297\n"
     ]
    }
   ],
   "source": [
    "k=\"\"\"Late at night, Emma found an old, \n",
    "    dusty key hidden under a loose floorboard.\n",
    "    Curiosity led her to the attic, \n",
    "    where she discovered a locked chest that seemed to hum with energy. \n",
    "    As she turned the key, the chest creaked open, \n",
    "    revealing a portal to a world she never imagined.\"\"\"\n",
    "\n",
    "print(len(k))"
   ]
  },
  {
   "cell_type": "code",
   "execution_count": 37,
   "id": "f68e99c7-51dc-4392-83d1-06ca0a8a736b",
   "metadata": {},
   "outputs": [
    {
     "name": "stdout",
     "output_type": "stream",
     "text": [
      "HI IAM VISHAL\n"
     ]
    }
   ],
   "source": [
    "a=(\"hi iam vishal\")\n",
    "print(a.upper())"
   ]
  },
  {
   "cell_type": "code",
   "execution_count": 42,
   "id": "0e41012d-9a2a-4aa8-8bb8-437adb54a45d",
   "metadata": {},
   "outputs": [
    {
     "name": "stdout",
     "output_type": "stream",
     "text": [
      "hi iam vishal\n"
     ]
    }
   ],
   "source": [
    "a=(\"    hi iam vishal   \")\n",
    "print(a.strip())"
   ]
  },
  {
   "cell_type": "code",
   "execution_count": 45,
   "id": "0f93097d-5b97-4225-900a-e459bb2c0216",
   "metadata": {},
   "outputs": [
    {
     "name": "stdout",
     "output_type": "stream",
     "text": [
      "20\n",
      "13\n",
      "hi iam vishal\n"
     ]
    }
   ],
   "source": [
    "a=(\"    hi iam vishal   \")\n",
    "b=(a.strip())\n",
    "print(len(a))\n",
    "print(len(b))\n",
    "print(b)\n"
   ]
  },
  {
   "cell_type": "code",
   "execution_count": 48,
   "id": "6633e337-db15-4f16-a6c2-897e1572c4ce",
   "metadata": {},
   "outputs": [
    {
     "name": "stdout",
     "output_type": "stream",
     "text": [
      "['hi', 'iam', 'vishal']\n"
     ]
    }
   ],
   "source": [
    "a=(\"hi iam vishal\")\n",
    "print(a.split())"
   ]
  },
  {
   "cell_type": "code",
   "execution_count": 51,
   "id": "3216a82d-0807-4d30-a76a-c0d9344773d6",
   "metadata": {},
   "outputs": [
    {
     "name": "stdin",
     "output_type": "stream",
     "text": [
      "Enter name vishal\n",
      "enter age 22\n"
     ]
    },
    {
     "name": "stdout",
     "output_type": "stream",
     "text": [
      "hi iam {a},my age is {b}\n"
     ]
    }
   ],
   "source": [
    "a=(input(\"Enter name\"))\n",
    "b=(input(\"enter age\"))\n",
    "c=(\"hi iam {a\"},my age is {b}\")\n",
    "print(c)\n",
    "   "
   ]
  },
  {
   "cell_type": "code",
   "execution_count": 6,
   "id": "3a8fada9-e386-4904-8458-e6cdef3c9ddb",
   "metadata": {},
   "outputs": [
    {
     "name": "stdout",
     "output_type": "stream",
     "text": [
      "hey welcome to python\n"
     ]
    }
   ],
   "source": [
    "a=(\"hi welcome to python\")\n",
    "b=a.replace(\"hi\",\"hey\")\n",
    "print(b)"
   ]
  },
  {
   "cell_type": "code",
   "execution_count": 10,
   "id": "562906c9-c05d-4ef3-b1c1-b569dfa50334",
   "metadata": {},
   "outputs": [
    {
     "name": "stdout",
     "output_type": "stream",
     "text": [
      "7\n"
     ]
    }
   ],
   "source": [
    "a=(\"hi iam vishal\")\n",
    "b=a.index(\"v\")\n",
    "print(b)"
   ]
  },
  {
   "cell_type": "code",
   "execution_count": 13,
   "id": "2ef8fc20-9173-4cd0-ae21-898ebf4a9d1d",
   "metadata": {},
   "outputs": [
    {
     "name": "stdout",
     "output_type": "stream",
     "text": [
      "True\n",
      "False\n"
     ]
    }
   ],
   "source": [
    "a=(\"hi iam vishal\")\n",
    "b=a.startswith(\"h\")\n",
    "print(b)\n",
    "c=a.endswith(\"a\")\n",
    "print(c)"
   ]
  },
  {
   "cell_type": "code",
   "execution_count": 17,
   "id": "91701ce0-f8d2-482e-8fda-9aa1e64b2a35",
   "metadata": {},
   "outputs": [
    {
     "name": "stdout",
     "output_type": "stream",
     "text": [
      "False\n"
     ]
    }
   ],
   "source": [
    "a=20\n",
    "print(a>19 and a>21)"
   ]
  },
  {
   "cell_type": "code",
   "execution_count": 18,
   "id": "256d9182-13e0-4177-a368-216a53fd2f89",
   "metadata": {},
   "outputs": [
    {
     "name": "stdout",
     "output_type": "stream",
     "text": [
      "True\n"
     ]
    }
   ],
   "source": [
    "a=20\n",
    "print(a>19 or a>21)"
   ]
  },
  {
   "cell_type": "code",
   "execution_count": 21,
   "id": "31e4704f-5798-49d5-bf2f-2d7204557d33",
   "metadata": {},
   "outputs": [
    {
     "name": "stdout",
     "output_type": "stream",
     "text": [
      "b is big\n"
     ]
    }
   ],
   "source": [
    "a=10\n",
    "b=20\n",
    "if a>b:\n",
    "    print(\"a is big\")\n",
    "elif a==b:\n",
    "    print(\"b is a\")\n",
    "else:\n",
    "    print(\"b is big\")\n",
    "\n"
   ]
  },
  {
   "cell_type": "code",
   "execution_count": null,
   "id": "96b18705-e10a-4ec7-9cd9-14d29ff6d427",
   "metadata": {},
   "outputs": [],
   "source": []
  }
 ],
 "metadata": {
  "kernelspec": {
   "display_name": "Python 3 (ipykernel)",
   "language": "python",
   "name": "python3"
  },
  "language_info": {
   "codemirror_mode": {
    "name": "ipython",
    "version": 3
   },
   "file_extension": ".py",
   "mimetype": "text/x-python",
   "name": "python",
   "nbconvert_exporter": "python",
   "pygments_lexer": "ipython3",
   "version": "3.12.7"
  }
 },
 "nbformat": 4,
 "nbformat_minor": 5
}
