{
 "cells": [
  {
   "cell_type": "code",
   "execution_count": 7,
   "id": "11cca699-9cae-4450-9fb5-454230d790a6",
   "metadata": {},
   "outputs": [
    {
     "name": "stdout",
     "output_type": "stream",
     "text": [
      "[1, 2, 3, 5, 4, 6]\n"
     ]
    }
   ],
   "source": [
    "a=[1,2,3,2,5,4,6,5,6]\n",
    "b=[]\n",
    "for i in a:\n",
    "    if i not in b:\n",
    "        b.append(i)\n",
    "print(b)"
   ]
  },
  {
   "cell_type": "code",
   "execution_count": null,
   "id": "c3d43299-bff3-4c26-b072-082f4ceb6937",
   "metadata": {},
   "outputs": [],
   "source": [
    "f=[1,3,44,5]\n",
    "for i in range(len(f)):\n",
    "    "
   ]
  }
 ],
 "metadata": {
  "kernelspec": {
   "display_name": "Python 3 (ipykernel)",
   "language": "python",
   "name": "python3"
  },
  "language_info": {
   "codemirror_mode": {
    "name": "ipython",
    "version": 3
   },
   "file_extension": ".py",
   "mimetype": "text/x-python",
   "name": "python",
   "nbconvert_exporter": "python",
   "pygments_lexer": "ipython3",
   "version": "3.12.7"
  }
 },
 "nbformat": 4,
 "nbformat_minor": 5
}
