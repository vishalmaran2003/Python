{
 "cells": [
  {
   "cell_type": "code",
   "execution_count": 1,
   "id": "44ff4605-c3db-49d9-adfb-26a701e8d139",
   "metadata": {},
   "outputs": [
    {
     "name": "stdout",
     "output_type": "stream",
     "text": [
      "8\n"
     ]
    }
   ],
   "source": [
    "a=\"welcome to python\"\n",
    "b=a.find(\"to\")\n",
    "print(b)"
   ]
  },
  {
   "cell_type": "code",
   "execution_count": 3,
   "id": "ae49c02b-5a4b-4f13-9dcd-9f1b1e084dcc",
   "metadata": {},
   "outputs": [
    {
     "name": "stdout",
     "output_type": "stream",
     "text": [
      "vishal&sakthi&ganesh\n"
     ]
    }
   ],
   "source": [
    "a=(\"vishal\",\"sakthi\",\"ganesh\")\n",
    "b=\"&\".join(a)\n",
    "print(b)\n"
   ]
  },
  {
   "cell_type": "code",
   "execution_count": 5,
   "id": "8edc508d-92eb-407a-b4b2-253f81c6335c",
   "metadata": {},
   "outputs": [
    {
     "name": "stdout",
     "output_type": "stream",
     "text": [
      "i like football\n"
     ]
    }
   ],
   "source": [
    "a=(\"i like cricket\")\n",
    "b=a.replace(\"cricket\",\"football\")\n",
    "print(b)"
   ]
  },
  {
   "cell_type": "code",
   "execution_count": 17,
   "id": "f9bf193b-011b-450e-bc4c-8a0510e19dbd",
   "metadata": {},
   "outputs": [
    {
     "name": "stdout",
     "output_type": "stream",
     "text": [
      "('hi iam ', 'vishal', ' from CSE')\n"
     ]
    }
   ],
   "source": [
    "a=(\"hi iam vishal from CSE\")\n",
    "b=a.partition(\"vishal\")\n",
    "print(b)"
   ]
  },
  {
   "cell_type": "code",
   "execution_count": 19,
   "id": "32c0833a-7f6e-4ec2-8833-f6359bf16068",
   "metadata": {},
   "outputs": [
    {
     "name": "stdout",
     "output_type": "stream",
     "text": [
      "True\n"
     ]
    }
   ],
   "source": [
    "a=(\"hi iam vishal\")\n",
    "b=a.startswith(\"hi\")\n",
    "print(b)"
   ]
  },
  {
   "cell_type": "code",
   "execution_count": null,
   "id": "092b6b06-7e63-44c9-9c35-c575b27a6f8a",
   "metadata": {},
   "outputs": [],
   "source": []
  }
 ],
 "metadata": {
  "kernelspec": {
   "display_name": "Python 3 (ipykernel)",
   "language": "python",
   "name": "python3"
  },
  "language_info": {
   "codemirror_mode": {
    "name": "ipython",
    "version": 3
   },
   "file_extension": ".py",
   "mimetype": "text/x-python",
   "name": "python",
   "nbconvert_exporter": "python",
   "pygments_lexer": "ipython3",
   "version": "3.12.7"
  }
 },
 "nbformat": 4,
 "nbformat_minor": 5
}
